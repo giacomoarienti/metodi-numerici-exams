{
 "cells": [
  {
   "cell_type": "code",
   "execution_count": 41,
   "id": "1664a56e",
   "metadata": {},
   "outputs": [],
   "source": [
    "import numpy as np\n",
    "import matplotlib.pyplot as plt\n",
    "import math\n",
    "import sympy as sym\n",
    "from sympy.utilities.lambdify import lambdify"
   ]
  },
  {
   "cell_type": "markdown",
   "id": "004b0103-bd48-49d2-b8f3-05e5d5502207",
   "metadata": {},
   "source": [
    "## Esercizio 1"
   ]
  },
  {
   "cell_type": "markdown",
   "id": "25a961e6-278c-4723-a1b9-83467e05aceb",
   "metadata": {},
   "source": [
    "Si consideri il polinomio $$L(x)=(1/2) (5x^3-3x)$$ $x \\in [-1,1]$"
   ]
  },
  {
   "cell_type": "markdown",
   "id": "60aa1e63-c68e-4d29-92c5-7a73cdc8e0b2",
   "metadata": {},
   "source": [
    "Si visualizzi il grafico del polinomio in [-1,1]"
   ]
  },
  {
   "cell_type": "code",
   "execution_count": 42,
   "id": "62d5d122",
   "metadata": {},
   "outputs": [
    {
     "data": {
      "text/plain": [
       "[<matplotlib.lines.Line2D at 0x72f8f43a5720>]"
      ]
     },
     "execution_count": 42,
     "metadata": {},
     "output_type": "execute_result"
    },
    {
     "data": {
      "image/png": "[encoded data removed]",
      "text/plain": [
       "<Figure size 640x480 with 1 Axes>"
      ]
     },
     "metadata": {},
     "output_type": "display_data"
    }
   ],
   "source": [
    "xx = np.linspace(-1, 1, 100)\n",
    "Lx = lambda x: (1/2)*(5*x**3-3*x)\n",
    "yy = [Lx(xi) for xi in xx]\n",
    "plt.plot(xx, yy)"
   ]
  },
  {
   "cell_type": "markdown",
   "id": "7eec16a7-922b-41ab-8b6b-639681e70fad",
   "metadata": {},
   "source": [
    "- Si implementi il metodo di Newton per la determinazione degli zeri di un'equazione non lineare [**Punti 4**]"
   ]
  },
  {
   "cell_type": "code",
   "execution_count": 43,
   "id": "f5923c21",
   "metadata": {},
   "outputs": [],
   "source": [
    "tolx=1e-12\n",
    "tolf=1e-12\n",
    "nmax=40"
   ]
  },
  {
   "cell_type": "code",
   "execution_count": 44,
   "id": "267e6df2",
   "metadata": {},
   "outputs": [],
   "source": [
    "def newton(fname,fpname,x0,tolx,tolf,nmax):\n",
    "    \"\"\"\n",
    "    Implementa il metodo di Newton per il calcolo degli zeri di un'equazione non lineare.\n",
    "\n",
    "    Parametri:\n",
    "    fname: La funzione di cui si vuole calcolare lo zero.\n",
    "    fpname: La derivata prima della funzione di  cui si vuole calcolare lo zero.\n",
    "    x0: iterato iniziale\n",
    "    tolx: La tolleranza di errore tra due iterati successivi\n",
    "    tolf: tolleranza sul valore della funzione\n",
    "    nmax: numero massimo di iterazione\n",
    "\n",
    "    Restituisce:\n",
    "    Lo zero approssimato della funzione, il numero di iterazioni e la lista degli iterati intermedi.\n",
    "    \"\"\"\n",
    "    xk=[]\n",
    "    fx0=fname(x0)\n",
    "    if abs(fpname(x0)) < np.spacing(1):\n",
    "        print(\"derivata prima nulla in x0\")\n",
    "        return None, None,None\n",
    "\n",
    "    d= -fx0/fpname(x0)\n",
    "    x1= x0 + d\n",
    "\n",
    "    fx1=fname(x1)\n",
    "    xk.append(x1)\n",
    "    it=1\n",
    "\n",
    "    while it < nmax and abs(d) >= tolx * abs(x0) and abs(fx1) >= tolf:\n",
    "        x0 = x1\n",
    "        fx0 = fx1\n",
    "        if abs(fpname(x0)) < np.spacing(1): #Se la derivata prima e' pià piccola della precisione di macchina stop\n",
    "            print(\" derivata prima nulla in x0\")\n",
    "            return None, None,None\n",
    "        d = -fx0/fpname(x0)\n",
    "        x1 = x0 + d\n",
    "        fx1=fname(x1)\n",
    "        it=it+1\n",
    "        xk.append(x1)\n",
    "\n",
    "    if it==nmax:\n",
    "        print('raggiunto massimo numero di iterazioni \\n')\n",
    "\n",
    "    return x1,it,xk"
   ]
  },
  {
   "cell_type": "code",
   "execution_count": 45,
   "id": "11b20bdf",
   "metadata": {},
   "outputs": [
    {
     "name": "stdout",
     "output_type": "stream",
     "text": [
      "iterazioni newton: 5\n",
      "soluzione newton: -0.7745966692414835\n",
      "L(x): -4.440892098500626e-16\n"
     ]
    }
   ],
   "source": [
    "Lpx = lambda x: (1/2)*(15*x**2-3)\n",
    "x0=-1\n",
    "x_newton, it_newton, xk_newton = newton(Lx, Lpx, x0, tolx, tolf, nmax)\n",
    "print(\"iterazioni newton:\", it_newton)\n",
    "print(\"soluzione newton:\", x_newton)\n",
    "print(\"L(x):\", Lx(x_newton))"
   ]
  },
  {
   "cell_type": "markdown",
   "id": "4495e605-8592-466c-9bf0-625ecc4921cc",
   "metadata": {},
   "source": [
    "- Si implementi il metodo di Bisezione per la determinazione degli zeri di un'equazione non lineare [**Punti 4**]"
   ]
  },
  {
   "cell_type": "code",
   "execution_count": 46,
   "id": "cca5fd50",
   "metadata": {},
   "outputs": [],
   "source": [
    "def metodo_bisezione(fname, a, b, tolx,tolf):\n",
    "    \"\"\"\n",
    "    Implementa il metodo di bisezione per il calcolo degli zeri di un'equazione non lineare.\n",
    "\n",
    "    Parametri:\n",
    "    f: La funzione da cui si vuole calcolare lo zero.\n",
    "    a: L'estremo sinistro dell'intervallo di ricerca.\n",
    "    b: L'estremo destro dell'intervallo di ricerca.\n",
    "    tol: La tolleranza di errore.\n",
    "\n",
    "    Restituisce:\n",
    "    Lo zero approssimato della funzione, il numero di iterazioni e la lista di valori intermedi.\n",
    "    \"\"\"\n",
    "    fa=fname(a)\n",
    "    fb=fname(b)\n",
    "    if fb * fa > 0:\n",
    "        print(\"Non è possibile applicare il metodo di bisezione \\n\")\n",
    "        return None, None,None\n",
    "\n",
    "    it = 0\n",
    "    v_xk = []\n",
    "\n",
    "    maxit = math.ceil(math.log((b - a) / tolx) / math.log(2))-1\n",
    "    fxk = 1\n",
    "\n",
    "    while it < maxit and abs(fxk) >= tolf:\n",
    "        xk = a + (b - a) / 2\n",
    "        v_xk.append(xk)\n",
    "        it += 1\n",
    "        fxk=fname(xk)\n",
    "\n",
    "        if fxk==0:\n",
    "            return xk, it, v_xk\n",
    "\n",
    "        if np.sign(fa) * np.sign(fxk) < 0:\n",
    "            b = xk\n",
    "            fb = fxk\n",
    "        elif np.sign(fxk) * np.sign(fb) < 0:\n",
    "            a = xk\n",
    "            fa = fxk\n",
    "\n",
    "    return xk, it, v_xk"
   ]
  },
  {
   "cell_type": "markdown",
   "id": "7a4eb352-abd8-4ae8-90c9-2a82612a4213",
   "metadata": {},
   "source": [
    "- Si utilizzi il metodo di Newton con iterato iniziale $x_0=1$ per determinare lo zero $x^*$ piu' vicino ad 1. [**Punti 2**]"
   ]
  },
  {
   "cell_type": "code",
   "execution_count": 47,
   "id": "d6677010",
   "metadata": {},
   "outputs": [
    {
     "name": "stdout",
     "output_type": "stream",
     "text": [
      "iterazioni newton: 5\n",
      "soluzione newton: 0.7745966692414835\n",
      "L(x): 4.440892098500626e-16\n"
     ]
    }
   ],
   "source": [
    "Lpx = lambda x: (1/2)*(15*x**2-3)\n",
    "x0=1\n",
    "x_newton, it_newton, xk_newton = newton(Lx, Lpx, x0, tolx, tolf, nmax)\n",
    "print(\"iterazioni newton:\", it_newton)\n",
    "print(\"soluzione newton:\", x_newton)\n",
    "print(\"L(x):\", Lx(x_newton))\n",
    "\n",
    "x_start = x_newton"
   ]
  },
  {
   "cell_type": "markdown",
   "id": "4d0df9dd-b119-4dfd-94b6-991eb1ec0943",
   "metadata": {},
   "source": [
    "Si consideri la funzione $q(x)=L(x)/(x-x^*)$ dove $x^*$ è lo zero calcolato nel punto precedente. Si applichi il metodo di Newton con iterato iniziale $x_0=-0.5$ per calcolare uno zero della funzione $q(x)$  e si verifichi che è anche zero di $L(x)$  [**Punti 2**]"
   ]
  },
  {
   "cell_type": "code",
   "execution_count": 49,
   "id": "77a509d2",
   "metadata": {},
   "outputs": [
    {
     "data": {
      "text/plain": [
       "[<matplotlib.lines.Line2D at 0x72f8f423e080>]"
      ]
     },
     "execution_count": 49,
     "metadata": {},
     "output_type": "execute_result"
    },
    {
     "data": {
      "image/png": "[encoded data removed]",
      "text/plain": [
       "<Figure size 640x480 with 1 Axes>"
      ]
     },
     "metadata": {},
     "output_type": "display_data"
    }
   ],
   "source": [
    "x = sym.symbols('x')\n",
    "q = (1/2)*(5*x**3-3*x)/(x - x_start)\n",
    "dqs=sym.diff(q,x,1)\n",
    "\n",
    "qx = lambdify(x, q, np)\n",
    "qpx = lambdify(x,dqs,np)\n",
    "\n",
    "yy = [qx(xi) for xi in xx]\n",
    "plt.plot(xx, yy)"
   ]
  },
  {
   "cell_type": "code",
   "execution_count": null,
   "id": "b7f72b08",
   "metadata": {},
   "outputs": [
    {
     "name": "stdout",
     "output_type": "stream",
     "text": [
      "iterazioni newton: 6\n",
      "soluzione newton: -0.7745966692414833\n",
      "Q(x): -1.4332917616497522e-16\n",
      "L(x): 2.220446049250313e-16\n"
     ]
    }
   ],
   "source": [
    "x0 = -0.5\n",
    "x_newton, it_newton, xk_newton = newton(qx, qpx, x0, tolx, tolf, nmax)\n",
    "print(\"iterazioni newton:\", it_newton)\n",
    "print(\"soluzione newton:\", x_newton)\n",
    "print(\"Q(x):\", qx(x_newton))\n",
    "print(\"L(x):\", Lx(x_newton))"
   ]
  },
  {
   "cell_type": "markdown",
   "id": "fd4a767b-5051-4a7d-9ab1-2f99864025e8",
   "metadata": {},
   "source": [
    "Si applichi il metodo di bisezione alle funzioni $q(x)$ ed $L(x)$ definite in [-1,1] e si fornisca una spiegazione teorica dei risultati ottenuti  [**Punti 2**]"
   ]
  },
  {
   "cell_type": "code",
   "execution_count": null,
   "id": "c515806d",
   "metadata": {},
   "outputs": [
    {
     "name": "stdout",
     "output_type": "stream",
     "text": [
      "iterazioni bisezione: 1\n",
      "soluzione bisezione: 0.0\n",
      "L(x): 0.0\n"
     ]
    }
   ],
   "source": [
    "a = -1\n",
    "b = 1\n",
    "x_bi, it_bi, xk_bi = metodo_bisezione(Lx, a, b, tolx, tolf)\n",
    "print(\"iterazioni bisezione:\", it_bi)\n",
    "print(\"soluzione bisezione:\", x_bi)\n",
    "print(\"L(x):\", Lx(x_bi))"
   ]
  },
  {
   "cell_type": "code",
   "execution_count": 50,
   "id": "f5f39cff",
   "metadata": {},
   "outputs": [
    {
     "name": "stdout",
     "output_type": "stream",
     "text": [
      "Non è possibile applicare il metodo di bisezione \n",
      "\n",
      "iterazioni bisezione: None\n",
      "soluzione bisezione: None\n"
     ]
    }
   ],
   "source": [
    "a = -1\n",
    "b = 1\n",
    "x_bi, it_bi, xk_bi = metodo_bisezione(qx, a, b, tolx, tolf)\n",
    "print(\"iterazioni bisezione:\", it_bi)\n",
    "print(\"soluzione bisezione:\", x_bi)"
   ]
  },
  {
   "cell_type": "markdown",
   "id": "21c30050",
   "metadata": {},
   "source": [
    "> il metodo della bisezione non può essere applicato alla funzione qx nell'intervallo [-1, 1] perché pur essendo convessa, i punti rappresentati i due estremi sono entrambi > 0"
   ]
  },
  {
   "cell_type": "markdown",
   "id": "e92a6695-bf91-41fb-868f-5ffde2bacf7a",
   "metadata": {},
   "source": [
    "                                                                                                                Punti [14]"
   ]
  }
 ],
 "metadata": {
  "kernelspec": {
   "display_name": "Python 3 (ipykernel)",
   "language": "python",
   "name": "python3"
  },
  "language_info": {
   "codemirror_mode": {
    "name": "ipython",
    "version": 3
   },
   "file_extension": ".py",
   "mimetype": "text/x-python",
   "name": "python",
   "nbconvert_exporter": "python",
   "pygments_lexer": "ipython3",
   "version": "3.10.12"
  }
 },
 "nbformat": 4,
 "nbformat_minor": 5
}
