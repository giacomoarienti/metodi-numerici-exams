{
 "cells": [
  {
   "cell_type": "markdown",
   "id": "436b21ca-81f4-4a28-b1b3-7bcec38b8ec9",
   "metadata": {},
   "source": [
    "## Simulazione II Esame di Metodi Numerici Soluzioni##"
   ]
  },
  {
   "cell_type": "code",
   "execution_count": 374,
   "id": "4288f265",
   "metadata": {},
   "outputs": [],
   "source": [
    "from scipy.io import loadmat\n",
    "import numpy as np\n",
    "import numpy.linalg as npl\n",
    "import scipy as sp\n",
    "import scipy.linalg as spl\n",
    "import matplotlib.pyplot as plt\n",
    "import SolveTriangular\n",
    "from math import sqrt"
   ]
  },
  {
   "cell_type": "code",
   "execution_count": 375,
   "id": "d32561d5",
   "metadata": {},
   "outputs": [],
   "source": [
    "dati = loadmat(\"Test_II.mat\")\n",
    "A1 = dati[\"A1\"]\n",
    "A1 = A1.astype(float)\n",
    "b1 = dati[\"b1\"]\n",
    "b1 = b1.astype(float)\n",
    "A2 = dati[\"A2\"]\n",
    "A2 = A2.astype(float)\n",
    "b2 = dati[\"b2\"]\n",
    "b2 = b2.astype(float)\n",
    "A3 = dati[\"A3\"]\n",
    "A3 = A3.astype(float)\n",
    "b3 = dati[\"b3\"]\n",
    "b3 = b3.astype(float)"
   ]
  },
  {
   "cell_type": "markdown",
   "id": "9a338784-8746-4014-bec9-951026190441",
   "metadata": {},
   "source": [
    "Nel file ``Test_I.mat`` sono memorizzate le matrici A1, A2 ed A3 ed i vettori b1,b2,b3. \n",
    "- Risolvere i 3 sistemi lineari aventi matrice dei coefficienti A1 e termine noto b1, matrice dei coefficienti A2 e termine noto b2, matrice dei coefficienti A3 e terimine noto b3  utilizzando il metodo più adatto per ciascuno di essi e  commentare i risultati ottenuti  giustificandoli alla luce della teoria.\n",
    "\n",
    "                                                                                            punti 12\n"
   ]
  },
  {
   "cell_type": "code",
   "execution_count": 376,
   "id": "2a01bd85",
   "metadata": {},
   "outputs": [
    {
     "name": "stdout",
     "output_type": "stream",
     "text": [
      "====Matrice A1====\n",
      "Gradezza: 10x10\n",
      "Quadrata: True\n",
      "Sparsa: False\n",
      "Simmetrica: True\n",
      "Definita positiva: False\n",
      "Condizionamento: 120.61487223223162\n",
      "Mal condizionata: False\n"
     ]
    }
   ],
   "source": [
    "m, n = A1.shape\n",
    "size = m*n\n",
    "\n",
    "print(\"====Matrice A1====\")\n",
    "print(f\"Gradezza: {m}x{n}\")\n",
    "print(\"Quadrata:\", m==n)\n",
    "print(\"Sparsa:\", np.count_nonzero(A1) / size < 0.33)\n",
    "print(\"Simmetrica:\", np.all(A1.T == A1))\n",
    "print(\"Definita positiva:\", np.all(npl.eigvals(A1) > 0))\n",
    "print(\"Condizionamento:\", npl.cond(A1))\n",
    "print(\"Mal condizionata:\", np.log10(npl.cond(A1)) > 3)"
   ]
  },
  {
   "cell_type": "code",
   "execution_count": 377,
   "id": "de93922c",
   "metadata": {},
   "outputs": [],
   "source": [
    "def LUsolve(P, L, U, b):\n",
    "    y, flag = SolveTriangular.Lsolve(L, P @ b)\n",
    "    if flag == 0:\n",
    "        return SolveTriangular.Usolve(U, y)\n",
    "    else:\n",
    "        return None, None"
   ]
  },
  {
   "cell_type": "code",
   "execution_count": 378,
   "id": "b6c5a4c2",
   "metadata": {},
   "outputs": [
    {
     "name": "stdout",
     "output_type": "stream",
     "text": [
      "[[1.]\n",
      " [1.]\n",
      " [1.]\n",
      " [1.]\n",
      " [1.]\n",
      " [1.]\n",
      " [1.]\n",
      " [1.]\n",
      " [1.]\n",
      " [1.]]\n"
     ]
    }
   ],
   "source": [
    "PT, L, U = spl.lu(A1)\n",
    "P = PT.T.copy()\n",
    "x, flag = LUsolve(P, L, U, b1)\n",
    "print(x)"
   ]
  },
  {
   "cell_type": "code",
   "execution_count": 379,
   "id": "40779a5c",
   "metadata": {},
   "outputs": [
    {
     "name": "stdout",
     "output_type": "stream",
     "text": [
      "====Matrice A2====\n",
      "Gradezza: 25x10\n",
      "Quadrata: False\n",
      "Sparsa: False\n",
      "Condizionamento: 10000.000000000557\n",
      "Mal condizionata: True\n"
     ]
    }
   ],
   "source": [
    "m, n = A2.shape\n",
    "size = m*n\n",
    "\n",
    "print(\"====Matrice A2====\")\n",
    "print(f\"Gradezza: {m}x{n}\")\n",
    "print(\"Quadrata:\", m==n)\n",
    "print(\"Sparsa:\", np.count_nonzero(A2) / size < 0.33)\n",
    "print(\"Condizionamento:\", npl.cond(A2))\n",
    "print(\"Mal condizionata:\", np.log10(npl.cond(A2)) > 3)\n"
   ]
  },
  {
   "cell_type": "code",
   "execution_count": 380,
   "id": "412cea94",
   "metadata": {},
   "outputs": [],
   "source": [
    "def SVDLS(A,b):\n",
    "    #Risolve un sistema sovradeterminato con il metodo SVD-LS\n",
    "    m,n=A.shape  #numero di righe e  numero di colonne di A\n",
    "    U,s,VT=spl.svd(A)  #Attenzione : Restituisce U, il numpy-array 1d che contiene la diagonale della matrice Sigma e VT=VTrasposta)\n",
    "    #Quindi \n",
    "    V=VT.T\n",
    "    thresh=np.spacing(1)*m*s[0] ##Calcolo del rango della matrice, numero dei valori singolari maggiori di una soglia\n",
    "    k=np.count_nonzero(s>thresh)\n",
    "    print(\"rango=\",k)\n",
    "    d = U.T @ b\n",
    "    d1=d[:k].reshape(k, 1)\n",
    "    s1=s[:k].reshape(k, 1)\n",
    "    #Risolve il sistema diagonale di dimensione kxk avene come matrice dei coefficienti la matrice Sigma\n",
    "    c= d1 / s1\n",
    "    x=V[:,:k]@c\n",
    "    residuo=np.linalg.norm(d[k:])**2\n",
    "    return x,residuo"
   ]
  },
  {
   "cell_type": "code",
   "execution_count": 381,
   "id": "055724ea",
   "metadata": {},
   "outputs": [
    {
     "name": "stdout",
     "output_type": "stream",
     "text": [
      "rango= 10\n",
      "[[1.]\n",
      " [1.]\n",
      " [1.]\n",
      " [1.]\n",
      " [1.]\n",
      " [1.]\n",
      " [1.]\n",
      " [1.]\n",
      " [1.]\n",
      " [1.]]\n"
     ]
    }
   ],
   "source": [
    "x, residuo = SVDLS(A2, b2)\n",
    "print(x)"
   ]
  },
  {
   "cell_type": "code",
   "execution_count": 382,
   "id": "b92adf8a",
   "metadata": {},
   "outputs": [
    {
     "name": "stdout",
     "output_type": "stream",
     "text": [
      "====Matrice A3====\n",
      "Gradezza: 225x225\n",
      "Quadrata: True\n",
      "Sparsa: True\n",
      "Simmetrica: True\n",
      "Definita positiva: True\n",
      "Condizionamento: 103.0868689198173\n",
      "Mal condizionata: False\n"
     ]
    }
   ],
   "source": [
    "m, n = A3.shape\n",
    "size = m*n\n",
    "\n",
    "print(\"====Matrice A3====\")\n",
    "print(f\"Gradezza: {m}x{n}\")\n",
    "print(\"Quadrata:\", m==n)\n",
    "print(\"Sparsa:\", np.count_nonzero(A3) / size < 0.33)\n",
    "print(\"Simmetrica:\", np.all(A3.T == A3))\n",
    "print(\"Definita positiva:\", np.all(npl.eigvals(A3) > 0))\n",
    "print(\"Condizionamento:\", npl.cond(A3))\n",
    "print(\"Mal condizionata:\", np.log10(npl.cond(A3)) > 3)\n"
   ]
  },
  {
   "cell_type": "code",
   "execution_count": 383,
   "id": "9ed53c23",
   "metadata": {},
   "outputs": [],
   "source": [
    "def conjugate_gradient(A,b,x0,itmax,tol):\n",
    "    n,m=A.shape\n",
    "    if n!=m:\n",
    "        print(\"Matrice non quadrata\")\n",
    "        return [],[]\n",
    "\n",
    "   # inizializzare le variabili necessarie\n",
    "    x = x0\n",
    "    r = A@x-b\n",
    "    p = -r\n",
    "    it = 0\n",
    "\n",
    "    nb=np.linalg.norm(b)\n",
    "    errore=np.linalg.norm(r)/nb\n",
    "    vec_sol=[]\n",
    "    vec_sol.append(x0)\n",
    "    vet_r=[]\n",
    "    vet_r.append(errore)\n",
    "\n",
    "    # utilizzare il metodo del gradiente coniugato per calcolare la soluzione\n",
    "    while errore >= tol and it < itmax:\n",
    "        it=it+1\n",
    "        Ap= A @ p\n",
    "        alpha = (r.T @ r) / (p.T @ Ap)\n",
    "        x = x + alpha * p\n",
    "        vec_sol.append(x)\n",
    "        rtr_old=r.T@r\n",
    "        r=r+alpha*Ap\n",
    "        gamma= (r.T @ r) / rtr_old\n",
    "        errore=np.linalg.norm(r)/nb\n",
    "        vet_r.append(errore)\n",
    "        p = -r + gamma * p\n",
    "\n",
    "    return x,vet_r,vec_sol,it\n"
   ]
  },
  {
   "cell_type": "code",
   "execution_count": 384,
   "id": "b46b4f24",
   "metadata": {},
   "outputs": [
    {
     "name": "stdout",
     "output_type": "stream",
     "text": [
      "[[1.]\n",
      " [1.]\n",
      " [1.]\n",
      " [1.]\n",
      " [1.]\n",
      " [1.]\n",
      " [1.]\n",
      " [1.]\n",
      " [1.]\n",
      " [1.]\n",
      " [1.]\n",
      " [1.]\n",
      " [1.]\n",
      " [1.]\n",
      " [1.]\n",
      " [1.]\n",
      " [1.]\n",
      " [1.]\n",
      " [1.]\n",
      " [1.]\n",
      " [1.]\n",
      " [1.]\n",
      " [1.]\n",
      " [1.]\n",
      " [1.]\n",
      " [1.]\n",
      " [1.]\n",
      " [1.]\n",
      " [1.]\n",
      " [1.]\n",
      " [1.]\n",
      " [1.]\n",
      " [1.]\n",
      " [1.]\n",
      " [1.]\n",
      " [1.]\n",
      " [1.]\n",
      " [1.]\n",
      " [1.]\n",
      " [1.]\n",
      " [1.]\n",
      " [1.]\n",
      " [1.]\n",
      " [1.]\n",
      " [1.]\n",
      " [1.]\n",
      " [1.]\n",
      " [1.]\n",
      " [1.]\n",
      " [1.]\n",
      " [1.]\n",
      " [1.]\n",
      " [1.]\n",
      " [1.]\n",
      " [1.]\n",
      " [1.]\n",
      " [1.]\n",
      " [1.]\n",
      " [1.]\n",
      " [1.]\n",
      " [1.]\n",
      " [1.]\n",
      " [1.]\n",
      " [1.]\n",
      " [1.]\n",
      " [1.]\n",
      " [1.]\n",
      " [1.]\n",
      " [1.]\n",
      " [1.]\n",
      " [1.]\n",
      " [1.]\n",
      " [1.]\n",
      " [1.]\n",
      " [1.]\n",
      " [1.]\n",
      " [1.]\n",
      " [1.]\n",
      " [1.]\n",
      " [1.]\n",
      " [1.]\n",
      " [1.]\n",
      " [1.]\n",
      " [1.]\n",
      " [1.]\n",
      " [1.]\n",
      " [1.]\n",
      " [1.]\n",
      " [1.]\n",
      " [1.]\n",
      " [1.]\n",
      " [1.]\n",
      " [1.]\n",
      " [1.]\n",
      " [1.]\n",
      " [1.]\n",
      " [1.]\n",
      " [1.]\n",
      " [1.]\n",
      " [1.]\n",
      " [1.]\n",
      " [1.]\n",
      " [1.]\n",
      " [1.]\n",
      " [1.]\n",
      " [1.]\n",
      " [1.]\n",
      " [1.]\n",
      " [1.]\n",
      " [1.]\n",
      " [1.]\n",
      " [1.]\n",
      " [1.]\n",
      " [1.]\n",
      " [1.]\n",
      " [1.]\n",
      " [1.]\n",
      " [1.]\n",
      " [1.]\n",
      " [1.]\n",
      " [1.]\n",
      " [1.]\n",
      " [1.]\n",
      " [1.]\n",
      " [1.]\n",
      " [1.]\n",
      " [1.]\n",
      " [1.]\n",
      " [1.]\n",
      " [1.]\n",
      " [1.]\n",
      " [1.]\n",
      " [1.]\n",
      " [1.]\n",
      " [1.]\n",
      " [1.]\n",
      " [1.]\n",
      " [1.]\n",
      " [1.]\n",
      " [1.]\n",
      " [1.]\n",
      " [1.]\n",
      " [1.]\n",
      " [1.]\n",
      " [1.]\n",
      " [1.]\n",
      " [1.]\n",
      " [1.]\n",
      " [1.]\n",
      " [1.]\n",
      " [1.]\n",
      " [1.]\n",
      " [1.]\n",
      " [1.]\n",
      " [1.]\n",
      " [1.]\n",
      " [1.]\n",
      " [1.]\n",
      " [1.]\n",
      " [1.]\n",
      " [1.]\n",
      " [1.]\n",
      " [1.]\n",
      " [1.]\n",
      " [1.]\n",
      " [1.]\n",
      " [1.]\n",
      " [1.]\n",
      " [1.]\n",
      " [1.]\n",
      " [1.]\n",
      " [1.]\n",
      " [1.]\n",
      " [1.]\n",
      " [1.]\n",
      " [1.]\n",
      " [1.]\n",
      " [1.]\n",
      " [1.]\n",
      " [1.]\n",
      " [1.]\n",
      " [1.]\n",
      " [1.]\n",
      " [1.]\n",
      " [1.]\n",
      " [1.]\n",
      " [1.]\n",
      " [1.]\n",
      " [1.]\n",
      " [1.]\n",
      " [1.]\n",
      " [1.]\n",
      " [1.]\n",
      " [1.]\n",
      " [1.]\n",
      " [1.]\n",
      " [1.]\n",
      " [1.]\n",
      " [1.]\n",
      " [1.]\n",
      " [1.]\n",
      " [1.]\n",
      " [1.]\n",
      " [1.]\n",
      " [1.]\n",
      " [1.]\n",
      " [1.]\n",
      " [1.]\n",
      " [1.]\n",
      " [1.]\n",
      " [1.]\n",
      " [1.]\n",
      " [1.]\n",
      " [1.]\n",
      " [1.]\n",
      " [1.]\n",
      " [1.]\n",
      " [1.]\n",
      " [1.]\n",
      " [1.]\n",
      " [1.]\n",
      " [1.]\n",
      " [1.]\n",
      " [1.]\n",
      " [1.]]\n"
     ]
    }
   ],
   "source": [
    "x0 = np.zeros_like(b3)\n",
    "itmax = 100\n",
    "x, vet_err, vet_sol, it = conjugate_gradient(A3, b3, x0, itmax, 1e-12)\n",
    "print(x)"
   ]
  },
  {
   "cell_type": "markdown",
   "id": "ef948105",
   "metadata": {},
   "source": [
    "- Verificare se le matrici sono malcondizionate. Indicare la formula matematica dell'indice di condizionamento e spiegare perchè è importante conoscere l'indice di condizionamento di una matrice.\n",
    "                                                                                           \n",
    "                                                                                           punti 2"
   ]
  },
  {
   "cell_type": "code",
   "execution_count": 385,
   "id": "4ae4a480",
   "metadata": {},
   "outputs": [
    {
     "name": "stdout",
     "output_type": "stream",
     "text": [
      "103.0868689198173\n",
      "103.08686891981753\n"
     ]
    }
   ],
   "source": [
    "print(npl.cond(A3))\n",
    "print(npl.norm(npl.inv(A3), 2) * npl.norm(A3, 2))"
   ]
  },
  {
   "cell_type": "markdown",
   "id": "f2f56a05",
   "metadata": {},
   "source": [
    "> l'indice di condizionamento di una matrice è uguale alla norma della sua inversa per la norma delle matrice stessa. è importante conoscere l'indice di condizionamento di una matrice perché influsce sulla scelta del algoritmo da utilizzare. un indice di condizionamento alto indica che la matrice è mal condizionata, il che significa che piccole variazioni nei dati di input (come errori di arrotondamento) possono causare grandi variazioni nei risultati. Questo è particolarmente problematico nei calcoli numerici, dove gli errori di arrotondamento sono inevitabili."
   ]
  },
  {
   "cell_type": "markdown",
   "id": "ffafd3e0",
   "metadata": {},
   "source": [
    "\n",
    "- Dopo aver copiato nel numpy array b1p il termine noto b1 del primo sistema lineare con matrice dei coefficienti A1, effettuarne una perturbazione della prima componente nel seguente modo b1p[0]=b1p[0]+0.001*b1p[0]. Risolvere il sistema lineare con matrice A1 e termine noto perturbato b1p. Calcolare l'errore relativo sulla soluzione e l'errore relativo sul termine noto, descrivere ciò che si verifica giustificandolo alla luce della teoria.\n",
    "\n",
    "                                                                                           punti 2"
   ]
  },
  {
   "cell_type": "code",
   "execution_count": 386,
   "id": "88cfa3e4",
   "metadata": {},
   "outputs": [
    {
     "name": "stdout",
     "output_type": "stream",
     "text": [
      "Erorre relativo soluzione: 0.011286868660946262\n",
      "Erorre relativo termine noto: 0.00033571399214796726\n"
     ]
    }
   ],
   "source": [
    "b1p = b1.copy()\n",
    "b1p[0]=b1p[0]+0.001*b1p[0]\n",
    "\n",
    "Q, R = spl.qr(A1)\n",
    "y = Q.T @ b1p\n",
    "xp, flag = SolveTriangular.Usolve(R, y)\n",
    "\n",
    "PT, L, U = spl.lu(A1)\n",
    "P = PT.T.copy()\n",
    "x, flag = LUsolve(P, L, U, b1)\n",
    "\n",
    "err_rel_x = npl.norm(xp - x) / npl.norm(x)\n",
    "err_rel_b = npl.norm(b1p - b1) / npl.norm(b1)\n",
    "\n",
    "print(\"Erorre relativo soluzione:\", err_rel_x)\n",
    "print(\"Erorre relativo termine noto:\", err_rel_b)"
   ]
  },
  {
   "cell_type": "markdown",
   "id": "659dc75f",
   "metadata": {},
   "source": [
    "> visto l'indice di condizionamento leggermente elevato (p=2) per una matrice di piccole dimensioni una piccola perturbazione sui dati genera una perturbazione sulla soluzione dello stesso ordine (10^2)"
   ]
  },
  {
   "cell_type": "markdown",
   "id": "3254e9c8",
   "metadata": {},
   "source": [
    "                                                                    Punti 16"
   ]
  },
  {
   "cell_type": "markdown",
   "id": "c7c0fc1b-bc94-49c2-ac4f-7f5aef30ee48",
   "metadata": {},
   "source": [
    "## Esercizio 2 ##"
   ]
  },
  {
   "cell_type": "markdown",
   "id": "ac5bd596-03c0-403c-a91d-c009267ab3f7",
   "metadata": {},
   "source": [
    "Per ogni $k \\in N$ l'equazione di II grado $x^2+(2^{2k}-3^{-2k})x-2^{2k}3^{-2k}=0 $ ha come soluzioni esatte $x_1=-2^{2k}$,$x_2=3^{-2k}$,"
   ]
  },
  {
   "cell_type": "markdown",
   "id": "7199ac8a-fea4-41e2-a06b-95020434c852",
   "metadata": {},
   "source": [
    "Scrivere lo script python in cui\n",
    "- si implementa la formula risolutiva delle equazioni di II grado per calcolare le  due soluzioni per $k$ che  assume valori interi tra 6 e 16;  [**Punti 2**]"
   ]
  },
  {
   "cell_type": "code",
   "execution_count": 387,
   "id": "c5267e69",
   "metadata": {},
   "outputs": [],
   "source": [
    "k = np.linspace(6, 16, 11)\n",
    "b = 4**k - 1/9**k\n",
    "c = -4**k * 1/9**k\n",
    "x1p = (-b - np.sqrt(b**2 - 4 * c)) / 2\n",
    "x2p = (-b + np.sqrt(b**2 - 4 * c)) / 2\n",
    "x1 = -4**k\n",
    "x2 = 1/9**k"
   ]
  },
  {
   "cell_type": "markdown",
   "id": "160a8638-ea35-489f-9ff4-ab13bd7c0603",
   "metadata": {},
   "source": [
    "- per entrambe le soluzioni, si calcoli l'errore relativo commesso al variare di k che assume valori interi tra 6 e 16;   [**Punti 1**]"
   ]
  },
  {
   "cell_type": "code",
   "execution_count": 388,
   "id": "0fd22c73",
   "metadata": {},
   "outputs": [],
   "source": [
    "err_x1 = np.abs(x1p - x1) / np.abs(x1)\n",
    "err_x2 = np.abs(x2p - x2) / np.abs(x2)"
   ]
  },
  {
   "cell_type": "markdown",
   "id": "d3874f87-91f9-47de-b05a-928d840e86bd",
   "metadata": {},
   "source": [
    "- si rappresentino in un grafico gli andamenti dei due errori relativi calcolati nel punto precedente; [**Punti 1**]"
   ]
  },
  {
   "cell_type": "code",
   "execution_count": 389,
   "id": "4a148653",
   "metadata": {},
   "outputs": [
    {
     "data": {
      "text/plain": [
       "[<matplotlib.lines.Line2D at 0x74c0653fcfa0>,\n",
       " <matplotlib.lines.Line2D at 0x74c0653fd480>]"
      ]
     },
     "execution_count": 389,
     "metadata": {},
     "output_type": "execute_result"
    },
    {
     "data": {
      "image/png": "[encoded data removed]",
      "text/plain": [
       "<Figure size 640x480 with 1 Axes>"
      ]
     },
     "metadata": {},
     "output_type": "display_data"
    }
   ],
   "source": [
    "plt.plot(k, err_x1, k, err_x2)"
   ]
  },
  {
   "cell_type": "markdown",
   "id": "0094aaef-c1e9-4aed-ace7-d1c89638e136",
   "metadata": {},
   "source": [
    "- osservando i grafici ottenuti, si dica se le formule utilizzate per calcolare le due soluzioni hanno dato luogo ad algoritmi stabili, motivando opportunamente la risposta alla luce della teoria. [**Punti 6**]"
   ]
  },
  {
   "cell_type": "code",
   "execution_count": 400,
   "id": "29bebcd6",
   "metadata": {},
   "outputs": [
    {
     "name": "stdout",
     "output_type": "stream",
     "text": [
      "[ True  True  True  True  True  True  True  True  True  True  True]\n"
     ]
    }
   ],
   "source": [
    "delta_sqrt = np.sqrt(b**2 - 4 * c)\n",
    "print((b - delta_sqrt) < np.spacing(b))"
   ]
  },
  {
   "cell_type": "markdown",
   "id": "210adaa3",
   "metadata": {},
   "source": [
    "> l'algoritmo per il calcolo della variabile x2 è instabile perché si ha la somma di due termini molto vicini in modulo ma di segno opposto (-b + sqrt(b^2 - 4*a*c))"
   ]
  },
  {
   "cell_type": "markdown",
   "id": "283a9ff0-0abb-4469-b868-8b9b9918ebb0",
   "metadata": {},
   "source": [
    "- in caso di instabilita', si fornisca un algoritmo di calcolo stabile e si mostrino in un nuovo grafico gli\n",
    "andamenti dei nuovi errori relativi ottenuti. [**Punti 6**]"
   ]
  },
  {
   "cell_type": "code",
   "execution_count": 390,
   "id": "783cc056",
   "metadata": {},
   "outputs": [],
   "source": [
    "x2p = c / x1p  # x2 = c / (a*x1)"
   ]
  },
  {
   "cell_type": "code",
   "execution_count": 391,
   "id": "2d8596d6",
   "metadata": {},
   "outputs": [],
   "source": [
    "err_x1 = np.abs(x1p - x1) / np.abs(x1)\n",
    "err_x2 = np.abs(x2p - x2) / np.abs(x2)"
   ]
  },
  {
   "cell_type": "code",
   "execution_count": 392,
   "id": "1e4211e9",
   "metadata": {},
   "outputs": [
    {
     "data": {
      "text/plain": [
       "[<matplotlib.lines.Line2D at 0x74c06c7eb370>,\n",
       " <matplotlib.lines.Line2D at 0x74c06c7eb0d0>]"
      ]
     },
     "execution_count": 392,
     "metadata": {},
     "output_type": "execute_result"
    },
    {
     "data": {
      "image/png": "[encoded data removed]",
      "text/plain": [
       "<Figure size 640x480 with 1 Axes>"
      ]
     },
     "metadata": {},
     "output_type": "display_data"
    }
   ],
   "source": [
    "plt.plot(k, err_x1, k, err_x2)"
   ]
  },
  {
   "cell_type": "markdown",
   "id": "f4b41d00",
   "metadata": {},
   "source": [
    "> è dimostrabile che il prodotto x1*x2 = c/a, è quindi possibile ricavare un termine conoscendo l'altro"
   ]
  }
 ],
 "metadata": {
  "kernelspec": {
   "display_name": "Python 3 (ipykernel)",
   "language": "python",
   "name": "python3"
  },
  "language_info": {
   "codemirror_mode": {
    "name": "ipython",
    "version": 3
   },
   "file_extension": ".py",
   "mimetype": "text/x-python",
   "name": "python",
   "nbconvert_exporter": "python",
   "pygments_lexer": "ipython3",
   "version": "3.10.12"
  }
 },
 "nbformat": 4,
 "nbformat_minor": 5
}
